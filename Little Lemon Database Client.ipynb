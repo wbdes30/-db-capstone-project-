{
 "cells": [
  {
   "cell_type": "code",
   "execution_count": 1,
   "id": "45f05fc9-6eb1-4fab-8877-ac2c3e2c8db2",
   "metadata": {},
   "outputs": [
    {
     "name": "stdout",
     "output_type": "stream",
     "text": [
      "Defaulting to user installation because normal site-packages is not writeable\n",
      "Requirement already satisfied: mysql-connector-python in /Users/wbdes30/Library/Python/3.9/lib/python/site-packages (8.1.0)\n",
      "Requirement already satisfied: protobuf<=4.21.12,>=4.21.1 in /Users/wbdes30/Library/Python/3.9/lib/python/site-packages (from mysql-connector-python) (4.21.12)\n",
      "\u001b[33mWARNING: You are using pip version 21.2.4; however, version 23.2.1 is available.\n",
      "You should consider upgrading via the '/Library/Developer/CommandLineTools/usr/bin/python3 -m pip install --upgrade pip' command.\u001b[0m\n",
      "Note: you may need to restart the kernel to use updated packages.\n"
     ]
    }
   ],
   "source": [
    "%pip install mysql-connector-python"
   ]
  },
  {
   "cell_type": "code",
   "execution_count": 2,
   "id": "abd50e00",
   "metadata": {},
   "outputs": [],
   "source": [
    "import mysql.connector as connector"
   ]
  },
  {
   "cell_type": "code",
   "execution_count": 9,
   "id": "d608e116",
   "metadata": {},
   "outputs": [],
   "source": [
    "connection = connector.connect(user = \"root\", password = \"wbdes309187\", db = \"LittleLemonDB\")\n",
    "cursor = connection.cursor()"
   ]
  },
  {
   "cell_type": "code",
   "execution_count": 10,
   "id": "0553def3",
   "metadata": {},
   "outputs": [
    {
     "name": "stdout",
     "output_type": "stream",
     "text": [
      "[('Bookings',), ('Customers',), ('Menu',), ('MenuItems',), ('OrderDeliStat',), ('Orders',), ('Staff',)]\n"
     ]
    }
   ],
   "source": [
    "show_tables_query = \"SHOW tables\" \n",
    "cursor.execute(show_tables_query)\n",
    "results = cursor.fetchall()\n",
    "print(results)"
   ]
  },
  {
   "cell_type": "code",
   "execution_count": 11,
   "id": "dd7460cf",
   "metadata": {},
   "outputs": [],
   "source": [
    "promotional_campaign_query = \"\"\" \n",
    "SELECT Customers.CusName, Customers.ContactNum, Customers.Email, Orders.TotalCost\n",
    "FROM Customers INNER JOIN Orders USING (CusID)\n",
    "WHERE Orders.TotalCost > 60\"\"\""
   ]
  },
  {
   "cell_type": "code",
   "execution_count": 12,
   "id": "547e44ac",
   "metadata": {},
   "outputs": [],
   "source": [
    "cursor.execute(promotional_campaign_query)"
   ]
  }
 ],
 "metadata": {
  "kernelspec": {
   "display_name": "Python 3 (ipykernel)",
   "language": "python",
   "name": "python3"
  },
  "language_info": {
   "codemirror_mode": {
    "name": "ipython",
    "version": 3
   },
   "file_extension": ".py",
   "mimetype": "text/x-python",
   "name": "python",
   "nbconvert_exporter": "python",
   "pygments_lexer": "ipython3",
   "version": "3.9.6"
  }
 },
 "nbformat": 4,
 "nbformat_minor": 5
}
